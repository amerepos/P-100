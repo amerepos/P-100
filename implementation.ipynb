{
 "cells": [
  {
   "cell_type": "code",
   "execution_count": 3,
   "outputs": [],
   "source": [
    "import pandas as pd"
   ],
   "metadata": {
    "collapsed": false,
    "pycharm": {
     "name": "#%%\n"
    }
   }
  },
  {
   "cell_type": "code",
   "execution_count": 38,
   "outputs": [
    {
     "data": {
      "text/plain": "                   0                    1                    2    \\\n0  2021-01-01 00:00:00                  NaN                  NaN   \n1  2021-01-31 00:00:00           Page Views           Page Views   \n2              Site ID  2021-01-01 00:00:00  2021-01-02 00:00:00   \n3               site 1                    6                    4   \n4                  NaN           Page Views           Page Views   \n\n                   3                    4                    5    \\\n0                  NaN                  NaN                  NaN   \n1           Page Views           Page Views           Page Views   \n2  2021-01-03 00:00:00  2021-01-04 00:00:00  2021-01-05 00:00:00   \n3                    4                   10                    7   \n4           Page Views           Page Views           Page Views   \n\n                   6                    7                    8    \\\n0                  NaN                  NaN                  NaN   \n1           Page Views           Page Views           Page Views   \n2  2021-01-06 00:00:00  2021-01-07 00:00:00  2021-01-08 00:00:00   \n3                    6                    5                    6   \n4           Page Views           Page Views           Page Views   \n\n                   9    ...                         146  \\\n0                  NaN  ...                         NaN   \n1           Page Views  ...  Average Time Spent on Site   \n2  2021-01-09 00:00:00  ...         2021-01-22 00:00:00   \n3                    9  ...                        13.3   \n4           Page Views  ...  Average Time Spent on Site   \n\n                          147                         148  \\\n0                         NaN                         NaN   \n1  Average Time Spent on Site  Average Time Spent on Site   \n2         2021-01-23 00:00:00         2021-01-24 00:00:00   \n3                        22.6                        15.7   \n4  Average Time Spent on Site  Average Time Spent on Site   \n\n                          149                         150  \\\n0                         NaN                         NaN   \n1  Average Time Spent on Site  Average Time Spent on Site   \n2         2021-01-25 00:00:00         2021-01-26 00:00:00   \n3                         8.4                        14.2   \n4  Average Time Spent on Site  Average Time Spent on Site   \n\n                          151                         152  \\\n0                         NaN                         NaN   \n1  Average Time Spent on Site  Average Time Spent on Site   \n2         2021-01-27 00:00:00         2021-01-28 00:00:00   \n3                         3.3                        10.4   \n4  Average Time Spent on Site  Average Time Spent on Site   \n\n                          153                         154  \\\n0                         NaN                         NaN   \n1  Average Time Spent on Site  Average Time Spent on Site   \n2         2021-01-29 00:00:00         2021-01-30 00:00:00   \n3                         3.7                        11.5   \n4  Average Time Spent on Site  Average Time Spent on Site   \n\n                          155  \n0                         NaN  \n1  Average Time Spent on Site  \n2         2021-01-31 00:00:00  \n3                        11.9  \n4  Average Time Spent on Site  \n\n[5 rows x 156 columns]",
      "text/html": "<div>\n<style scoped>\n    .dataframe tbody tr th:only-of-type {\n        vertical-align: middle;\n    }\n\n    .dataframe tbody tr th {\n        vertical-align: top;\n    }\n\n    .dataframe thead th {\n        text-align: right;\n    }\n</style>\n<table border=\"1\" class=\"dataframe\">\n  <thead>\n    <tr style=\"text-align: right;\">\n      <th></th>\n      <th>0</th>\n      <th>1</th>\n      <th>2</th>\n      <th>3</th>\n      <th>4</th>\n      <th>5</th>\n      <th>6</th>\n      <th>7</th>\n      <th>8</th>\n      <th>9</th>\n      <th>...</th>\n      <th>146</th>\n      <th>147</th>\n      <th>148</th>\n      <th>149</th>\n      <th>150</th>\n      <th>151</th>\n      <th>152</th>\n      <th>153</th>\n      <th>154</th>\n      <th>155</th>\n    </tr>\n  </thead>\n  <tbody>\n    <tr>\n      <th>0</th>\n      <td>2021-01-01 00:00:00</td>\n      <td>NaN</td>\n      <td>NaN</td>\n      <td>NaN</td>\n      <td>NaN</td>\n      <td>NaN</td>\n      <td>NaN</td>\n      <td>NaN</td>\n      <td>NaN</td>\n      <td>NaN</td>\n      <td>...</td>\n      <td>NaN</td>\n      <td>NaN</td>\n      <td>NaN</td>\n      <td>NaN</td>\n      <td>NaN</td>\n      <td>NaN</td>\n      <td>NaN</td>\n      <td>NaN</td>\n      <td>NaN</td>\n      <td>NaN</td>\n    </tr>\n    <tr>\n      <th>1</th>\n      <td>2021-01-31 00:00:00</td>\n      <td>Page Views</td>\n      <td>Page Views</td>\n      <td>Page Views</td>\n      <td>Page Views</td>\n      <td>Page Views</td>\n      <td>Page Views</td>\n      <td>Page Views</td>\n      <td>Page Views</td>\n      <td>Page Views</td>\n      <td>...</td>\n      <td>Average Time Spent on Site</td>\n      <td>Average Time Spent on Site</td>\n      <td>Average Time Spent on Site</td>\n      <td>Average Time Spent on Site</td>\n      <td>Average Time Spent on Site</td>\n      <td>Average Time Spent on Site</td>\n      <td>Average Time Spent on Site</td>\n      <td>Average Time Spent on Site</td>\n      <td>Average Time Spent on Site</td>\n      <td>Average Time Spent on Site</td>\n    </tr>\n    <tr>\n      <th>2</th>\n      <td>Site ID</td>\n      <td>2021-01-01 00:00:00</td>\n      <td>2021-01-02 00:00:00</td>\n      <td>2021-01-03 00:00:00</td>\n      <td>2021-01-04 00:00:00</td>\n      <td>2021-01-05 00:00:00</td>\n      <td>2021-01-06 00:00:00</td>\n      <td>2021-01-07 00:00:00</td>\n      <td>2021-01-08 00:00:00</td>\n      <td>2021-01-09 00:00:00</td>\n      <td>...</td>\n      <td>2021-01-22 00:00:00</td>\n      <td>2021-01-23 00:00:00</td>\n      <td>2021-01-24 00:00:00</td>\n      <td>2021-01-25 00:00:00</td>\n      <td>2021-01-26 00:00:00</td>\n      <td>2021-01-27 00:00:00</td>\n      <td>2021-01-28 00:00:00</td>\n      <td>2021-01-29 00:00:00</td>\n      <td>2021-01-30 00:00:00</td>\n      <td>2021-01-31 00:00:00</td>\n    </tr>\n    <tr>\n      <th>3</th>\n      <td>site 1</td>\n      <td>6</td>\n      <td>4</td>\n      <td>4</td>\n      <td>10</td>\n      <td>7</td>\n      <td>6</td>\n      <td>5</td>\n      <td>6</td>\n      <td>9</td>\n      <td>...</td>\n      <td>13.3</td>\n      <td>22.6</td>\n      <td>15.7</td>\n      <td>8.4</td>\n      <td>14.2</td>\n      <td>3.3</td>\n      <td>10.4</td>\n      <td>3.7</td>\n      <td>11.5</td>\n      <td>11.9</td>\n    </tr>\n    <tr>\n      <th>4</th>\n      <td>NaN</td>\n      <td>Page Views</td>\n      <td>Page Views</td>\n      <td>Page Views</td>\n      <td>Page Views</td>\n      <td>Page Views</td>\n      <td>Page Views</td>\n      <td>Page Views</td>\n      <td>Page Views</td>\n      <td>Page Views</td>\n      <td>...</td>\n      <td>Average Time Spent on Site</td>\n      <td>Average Time Spent on Site</td>\n      <td>Average Time Spent on Site</td>\n      <td>Average Time Spent on Site</td>\n      <td>Average Time Spent on Site</td>\n      <td>Average Time Spent on Site</td>\n      <td>Average Time Spent on Site</td>\n      <td>Average Time Spent on Site</td>\n      <td>Average Time Spent on Site</td>\n      <td>Average Time Spent on Site</td>\n    </tr>\n  </tbody>\n</table>\n<p>5 rows × 156 columns</p>\n</div>"
     },
     "execution_count": 38,
     "metadata": {},
     "output_type": "execute_result"
    }
   ],
   "source": [
    "df = pd.read_excel('data/Analytics Template for Exercise.xlsx', header=None)\n",
    "df.head(5)"
   ],
   "metadata": {
    "collapsed": false,
    "pycharm": {
     "name": "#%%\n"
    }
   }
  },
  {
   "cell_type": "code",
   "execution_count": 76,
   "outputs": [
    {
     "name": "stdout",
     "output_type": "stream",
     "text": [
      "Start date is 2021-01-01 00:00:00\n",
      "End date is 2021-01-31 00:00:00\n",
      "Number of days is 31\n"
     ]
    }
   ],
   "source": [
    "start_date = df.iloc[0, 0]\n",
    "print('Start date is', start_date)\n",
    "end_date = df.iloc[1, 0]\n",
    "print('End date is', end_date)\n",
    "\n",
    "#Get time delta +1 day which is first day\n",
    "number_of_days = (end_date - start_date).days + 1\n",
    "print('Number of days is', number_of_days)"
   ],
   "metadata": {
    "collapsed": false,
    "pycharm": {
     "name": "#%%\n"
    }
   }
  },
  {
   "cell_type": "code",
   "execution_count": 204,
   "outputs": [
    {
     "name": "stdout",
     "output_type": "stream",
     "text": [
      "0\n",
      "3\n",
      "6\n",
      "9\n",
      "12\n",
      "15\n",
      "18\n",
      "21\n",
      "24\n",
      "27\n",
      "30\n",
      "33\n",
      "36\n",
      "39\n",
      "42\n",
      "45\n",
      "48\n",
      "51\n",
      "54\n",
      "57\n",
      "60\n",
      "63\n",
      "66\n",
      "69\n",
      "72\n",
      "75\n",
      "78\n",
      "81\n",
      "84\n",
      "87\n",
      "90\n",
      "93\n",
      "96\n",
      "99\n",
      "102\n",
      "105\n",
      "108\n",
      "111\n",
      "114\n",
      "117\n",
      "120\n",
      "123\n",
      "126\n",
      "129\n",
      "132\n",
      "135\n",
      "138\n",
      "141\n",
      "144\n",
      "147\n",
      "150\n",
      "153\n",
      "156\n",
      "159\n",
      "162\n",
      "165\n",
      "168\n",
      "171\n",
      "174\n",
      "177\n",
      "180\n",
      "183\n",
      "186\n",
      "189\n",
      "192\n",
      "195\n",
      "198\n",
      "201\n",
      "204\n",
      "207\n",
      "210\n",
      "213\n",
      "216\n",
      "219\n",
      "222\n",
      "225\n",
      "228\n",
      "231\n",
      "234\n",
      "237\n",
      "240\n",
      "243\n",
      "246\n",
      "249\n",
      "252\n",
      "255\n",
      "258\n",
      "261\n",
      "264\n",
      "267\n",
      "270\n",
      "273\n",
      "276\n",
      "279\n",
      "282\n",
      "285\n",
      "288\n",
      "291\n",
      "294\n",
      "297\n"
     ]
    },
    {
     "data": {
      "text/plain": "    Day of Month       Date   Site ID Page Views Unique Visitors  \\\n0              1 2021-01-01    site 1          6               4   \n1              2 2021-01-02    site 1          4               2   \n2              3 2021-01-03    site 1          4               2   \n3              4 2021-01-04    site 1         10               7   \n4              5 2021-01-05    site 1          7               5   \n..           ...        ...       ...        ...             ...   \n26            27 2021-01-27  site 100         34              18   \n27            28 2021-01-28  site 100         20               9   \n28            29 2021-01-29  site 100         33              18   \n29            30 2021-01-30  site 100         19               6   \n30            31 2021-01-31  site 100         11               5   \n\n   Total Time Spent Visits Average Time Spent on Site  \n0                11      4                        0.1  \n1                14      2                        0.1  \n2                13      2                        0.1  \n3               268      7                        1.5  \n4                12      5                        0.1  \n..              ...    ...                        ...  \n26              466     18                        1.1  \n27              100      9                        0.3  \n28               95     18                        0.2  \n29              331      6                        1.1  \n30               35      5                        0.1  \n\n[3100 rows x 8 columns]",
      "text/html": "<div>\n<style scoped>\n    .dataframe tbody tr th:only-of-type {\n        vertical-align: middle;\n    }\n\n    .dataframe tbody tr th {\n        vertical-align: top;\n    }\n\n    .dataframe thead th {\n        text-align: right;\n    }\n</style>\n<table border=\"1\" class=\"dataframe\">\n  <thead>\n    <tr style=\"text-align: right;\">\n      <th></th>\n      <th>Day of Month</th>\n      <th>Date</th>\n      <th>Site ID</th>\n      <th>Page Views</th>\n      <th>Unique Visitors</th>\n      <th>Total Time Spent</th>\n      <th>Visits</th>\n      <th>Average Time Spent on Site</th>\n    </tr>\n  </thead>\n  <tbody>\n    <tr>\n      <th>0</th>\n      <td>1</td>\n      <td>2021-01-01</td>\n      <td>site 1</td>\n      <td>6</td>\n      <td>4</td>\n      <td>11</td>\n      <td>4</td>\n      <td>0.1</td>\n    </tr>\n    <tr>\n      <th>1</th>\n      <td>2</td>\n      <td>2021-01-02</td>\n      <td>site 1</td>\n      <td>4</td>\n      <td>2</td>\n      <td>14</td>\n      <td>2</td>\n      <td>0.1</td>\n    </tr>\n    <tr>\n      <th>2</th>\n      <td>3</td>\n      <td>2021-01-03</td>\n      <td>site 1</td>\n      <td>4</td>\n      <td>2</td>\n      <td>13</td>\n      <td>2</td>\n      <td>0.1</td>\n    </tr>\n    <tr>\n      <th>3</th>\n      <td>4</td>\n      <td>2021-01-04</td>\n      <td>site 1</td>\n      <td>10</td>\n      <td>7</td>\n      <td>268</td>\n      <td>7</td>\n      <td>1.5</td>\n    </tr>\n    <tr>\n      <th>4</th>\n      <td>5</td>\n      <td>2021-01-05</td>\n      <td>site 1</td>\n      <td>7</td>\n      <td>5</td>\n      <td>12</td>\n      <td>5</td>\n      <td>0.1</td>\n    </tr>\n    <tr>\n      <th>...</th>\n      <td>...</td>\n      <td>...</td>\n      <td>...</td>\n      <td>...</td>\n      <td>...</td>\n      <td>...</td>\n      <td>...</td>\n      <td>...</td>\n    </tr>\n    <tr>\n      <th>26</th>\n      <td>27</td>\n      <td>2021-01-27</td>\n      <td>site 100</td>\n      <td>34</td>\n      <td>18</td>\n      <td>466</td>\n      <td>18</td>\n      <td>1.1</td>\n    </tr>\n    <tr>\n      <th>27</th>\n      <td>28</td>\n      <td>2021-01-28</td>\n      <td>site 100</td>\n      <td>20</td>\n      <td>9</td>\n      <td>100</td>\n      <td>9</td>\n      <td>0.3</td>\n    </tr>\n    <tr>\n      <th>28</th>\n      <td>29</td>\n      <td>2021-01-29</td>\n      <td>site 100</td>\n      <td>33</td>\n      <td>18</td>\n      <td>95</td>\n      <td>18</td>\n      <td>0.2</td>\n    </tr>\n    <tr>\n      <th>29</th>\n      <td>30</td>\n      <td>2021-01-30</td>\n      <td>site 100</td>\n      <td>19</td>\n      <td>6</td>\n      <td>331</td>\n      <td>6</td>\n      <td>1.1</td>\n    </tr>\n    <tr>\n      <th>30</th>\n      <td>31</td>\n      <td>2021-01-31</td>\n      <td>site 100</td>\n      <td>11</td>\n      <td>5</td>\n      <td>35</td>\n      <td>5</td>\n      <td>0.1</td>\n    </tr>\n  </tbody>\n</table>\n<p>3100 rows × 8 columns</p>\n</div>"
     },
     "execution_count": 204,
     "metadata": {},
     "output_type": "execute_result"
    }
   ],
   "source": [
    "row_count = len(df)\n",
    "column_count = len(df.columns)\n",
    "\n",
    "frames = []  # Save each site dataframe\n",
    "day_range = range(1, number_of_days + 1)  # Range of days based on date difference\n",
    "date_range = pd.date_range(start=start_date, end=end_date)  # Range of dates generated from start to end\n",
    "\n",
    "for i in range(0, row_count - 1, 3):\n",
    "    tmp_df = pd.DataFrame({\n",
    "        'Day of Month': day_range,  # Set day number range incrementally\n",
    "        'Date': date_range,  # Set date range incrementally\n",
    "        'Site ID': df.iloc[i + 3, 0],  # Get site id by index\n",
    "    })\n",
    "    for j in range(0, column_count - 1, number_of_days):\n",
    "        curr_header = df.iloc[i + 1, j + 1] # Get current column header\n",
    "        data = df.iloc[i + 3, j + 1:j + number_of_days + 1].values # Get row values for current attribute\n",
    "        tmp_df[curr_header] = data # Set current column with respective values\n",
    "    frames.append(tmp_df) # Save dataframe to list of dataframes\n",
    "output_df = pd.concat(frames) # Concat all Sites into one DataFrame\n",
    "output_df"
   ],
   "metadata": {
    "collapsed": false,
    "pycharm": {
     "name": "#%%\n"
    }
   }
  },
  {
   "cell_type": "code",
   "execution_count": 119,
   "outputs": [
    {
     "data": {
      "text/plain": "156"
     },
     "execution_count": 119,
     "metadata": {},
     "output_type": "execute_result"
    }
   ],
   "source": [
    "len(df.columns)"
   ],
   "metadata": {
    "collapsed": false,
    "pycharm": {
     "name": "#%%\n"
    }
   }
  },
  {
   "cell_type": "code",
   "execution_count": 118,
   "outputs": [
    {
     "data": {
      "text/plain": "31"
     },
     "execution_count": 118,
     "metadata": {},
     "output_type": "execute_result"
    }
   ],
   "source": [
    "number_of_days"
   ],
   "metadata": {
    "collapsed": false,
    "pycharm": {
     "name": "#%%\n"
    }
   }
  },
  {
   "cell_type": "code",
   "execution_count": 80,
   "outputs": [
    {
     "data": {
      "text/plain": "5.0"
     },
     "execution_count": 80,
     "metadata": {},
     "output_type": "execute_result"
    }
   ],
   "source": [
    "155 / 31"
   ],
   "metadata": {
    "collapsed": false,
    "pycharm": {
     "name": "#%%\n"
    }
   }
  },
  {
   "cell_type": "code",
   "execution_count": 81,
   "outputs": [
    {
     "name": "stdout",
     "output_type": "stream",
     "text": [
      "0\n",
      "31\n",
      "62\n",
      "93\n",
      "124\n"
     ]
    }
   ],
   "source": [
    "for i in range(0, 155, 31):\n",
    "    print(i)"
   ],
   "metadata": {
    "collapsed": false,
    "pycharm": {
     "name": "#%%\n"
    }
   }
  },
  {
   "cell_type": "code",
   "execution_count": null,
   "outputs": [],
   "source": [],
   "metadata": {
    "collapsed": false,
    "pycharm": {
     "name": "#%%\n"
    }
   }
  }
 ],
 "metadata": {
  "kernelspec": {
   "display_name": "Python 3",
   "language": "python",
   "name": "python3"
  },
  "language_info": {
   "codemirror_mode": {
    "name": "ipython",
    "version": 2
   },
   "file_extension": ".py",
   "mimetype": "text/x-python",
   "name": "python",
   "nbconvert_exporter": "python",
   "pygments_lexer": "ipython2",
   "version": "2.7.6"
  }
 },
 "nbformat": 4,
 "nbformat_minor": 0
}